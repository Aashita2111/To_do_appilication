{
  "nbformat": 4,
  "nbformat_minor": 0,
  "metadata": {
    "colab": {
      "provenance": [],
      "authorship_tag": "ABX9TyO7Y2mlUFnBrhytZ6m2BUuD",
      "include_colab_link": true
    },
    "kernelspec": {
      "name": "python3",
      "display_name": "Python 3"
    },
    "language_info": {
      "name": "python"
    }
  },
  "cells": [
    {
      "cell_type": "markdown",
      "metadata": {
        "id": "view-in-github",
        "colab_type": "text"
      },
      "source": [
        "<a href=\"https://colab.research.google.com/github/Aashita2111/To_do_appilication/blob/main/To_do_Application.ipynb\" target=\"_parent\"><img src=\"https://colab.research.google.com/assets/colab-badge.svg\" alt=\"Open In Colab\"/></a>"
      ]
    },
    {
      "cell_type": "code",
      "execution_count": 1,
      "metadata": {
        "colab": {
          "base_uri": "https://localhost:8080/"
        },
        "id": "cyO4jcUotauQ",
        "outputId": "139d18e5-448f-4c5b-f9df-b3144b49bb23"
      },
      "outputs": [
        {
          "name": "stdout",
          "output_type": "stream",
          "text": [
            "\n",
            "1. Add Task\n",
            "2. Delete task\n",
            "3. Complete task\n",
            "4. Display task\n",
            "Enter you choice: 1\n",
            "Add your task: w\n",
            "Task added successfully\n",
            "\n",
            "1. Add Task\n",
            "2. Delete task\n",
            "3. Complete task\n",
            "4. Display task\n",
            "Enter you choice: 1\n",
            "Add your task: walking\n",
            "Task added successfully\n",
            "\n",
            "1. Add Task\n",
            "2. Delete task\n",
            "3. Complete task\n",
            "4. Display task\n",
            "Enter you choice: 4\n",
            "tasks:\n",
            "1. w\n",
            "2. walking\n",
            "\n",
            "1. Add Task\n",
            "2. Delete task\n",
            "3. Complete task\n",
            "4. Display task\n",
            "Enter you choice: 5\n"
          ]
        }
      ],
      "source": [
        "tasks = []\n",
        "\n",
        "#Adding task\n",
        "def add_task(task):\n",
        "    tasks.append(task)\n",
        "    print(\"Task added successfully\")\n",
        "\n",
        "#delete task\n",
        "def delete_task(index):\n",
        "    if len(tasks) == 0:\n",
        "        print(\"no tasks yet to delete\")\n",
        "    if 0 < index <= len(tasks):\n",
        "        del tasks[index]\n",
        "        print(\"task deleted successfully\")\n",
        "    else:\n",
        "        print(\"Please enter the task number with in {}\".format(len(tasks)))\n",
        "\n",
        "#completed tasks\n",
        "def completed_task(index):\n",
        "    if 0 < index <= len(tasks):\n",
        "        tasks[index] += \" Completed\"\n",
        "        print(tasks)\n",
        "    else:\n",
        "        print(\"no tasks yet to complete, please add the tasks\")\n",
        "\n",
        "#display tasks\n",
        "def display_task():\n",
        "    if len(tasks) > 0:\n",
        "        print(\"tasks:\")\n",
        "        for i,task in enumerate(tasks):\n",
        "            print(f\"{i+1}. {task}\")\n",
        "    else:\n",
        "        print(\"No tasks to display\")\n",
        "#main function\n",
        "def main():\n",
        "\n",
        "    while True:\n",
        "        print(\"\\n1. Add Task\\n2. Delete task\\n3. Complete task\\n4. Display task\")\n",
        "        choice = input(\"Enter you choice: \")\n",
        "\n",
        "        if choice == \"1\":\n",
        "            task_input = input(\"Add your task: \")\n",
        "            add_task(task_input)\n",
        "        elif choice == \"2\":\n",
        "            task_index = int(input(\"Enter the number to delete task: \")) - 1\n",
        "            delete_task(task_index)\n",
        "        elif choice == \"3\":\n",
        "            task_index = int(input(\"Enter the task number to complete: \")) - 1\n",
        "            completed_task(task_index)\n",
        "        elif choice == \"4\":\n",
        "            display_task()\n",
        "        elif choice == \"5\":\n",
        "            break\n",
        "        else:\n",
        "            print(\"Please enter the valid choices\")\n",
        "\n",
        "if __name__ == \"__main__\":\n",
        "    main()\n",
        "al"
      ]
    }
  ]
}